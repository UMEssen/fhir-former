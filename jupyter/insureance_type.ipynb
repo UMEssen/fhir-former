{
 "cells": [
  {
   "cell_type": "code",
   "execution_count": 1,
   "metadata": {},
   "outputs": [],
   "source": [
    "import pandas as pd\n",
    "\n",
    "# read json\n",
    "df = pd.read_json('/raid/work/giubaldini/fhirformer/testing_30d/ds_insurance_type/all_samples_V1.json')"
   ]
  },
  {
   "cell_type": "code",
   "execution_count": 2,
   "metadata": {},
   "outputs": [
    {
     "name": "stdout",
     "output_type": "stream",
     "text": [
      "Patient metadata:\n",
      "age\t70\n",
      "gender\tfemale\n",
      "insurance_type\tgesetzlich\n",
      "\n",
      "Encounter:\n",
      "Beginn\t2021-03-15 11:34:00\n",
      "Kontakt Art\tEinrichtungskontakt\n",
      "Art\tambulatory\n",
      "Fachabteilungsschlüssel\tOrthopädie\n",
      "\n",
      "Sample date: 2021-03-15 11:34:00\n",
      "\n",
      "Patient history:\n",
      "2021-03-15:\n",
      "Z96.65, Vorhandensein einer Kniegelenkprothese\n"
     ]
    }
   ],
   "source": [
    "# get random text sample\n",
    "x = df.sample(1)\n",
    "print(x['text'].values[0])"
   ]
  },
  {
   "cell_type": "code",
   "execution_count": 3,
   "metadata": {},
   "outputs": [],
   "source": [
    "bdp = pd.read_pickle('/raid/work/giubaldini/fhirformer/2018-2023-v1/data_raw/biologically_derived_product.pkl')"
   ]
  },
  {
   "cell_type": "code",
   "execution_count": 4,
   "metadata": {},
   "outputs": [
    {
     "data": {
      "text/plain": [
       "Index(['metrics_id', 'bdp_id', 'service_request_id', 'storage_datetime',\n",
       "       'ausgabe_datetime', 'verbrauch', 'ausgabean', 'display', 'code',\n",
       "       'patient_id', 'status', 'priority'],\n",
       "      dtype='object')"
      ]
     },
     "execution_count": 4,
     "metadata": {},
     "output_type": "execute_result"
    }
   ],
   "source": [
    "bdp.columns"
   ]
  },
  {
   "cell_type": "code",
   "execution_count": 7,
   "metadata": {},
   "outputs": [
    {
     "data": {
      "text/plain": [
       "Timestamp('2022-12-31 10:35:00+0000', tz='UTC')"
      ]
     },
     "execution_count": 7,
     "metadata": {},
     "output_type": "execute_result"
    }
   ],
   "source": [
    "bdp.storage_datetime.max()"
   ]
  },
  {
   "cell_type": "code",
   "execution_count": null,
   "metadata": {},
   "outputs": [],
   "source": []
  }
 ],
 "metadata": {
  "kernelspec": {
   "display_name": ".venv",
   "language": "python",
   "name": "python3"
  },
  "language_info": {
   "codemirror_mode": {
    "name": "ipython",
    "version": 3
   },
   "file_extension": ".py",
   "mimetype": "text/x-python",
   "name": "python",
   "nbconvert_exporter": "python",
   "pygments_lexer": "ipython3",
   "version": "3.10.12"
  }
 },
 "nbformat": 4,
 "nbformat_minor": 2
}
