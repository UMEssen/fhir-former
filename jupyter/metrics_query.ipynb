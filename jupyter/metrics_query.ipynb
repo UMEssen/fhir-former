{
 "cells": [
  {
   "cell_type": "code",
   "execution_count": 55,
   "metadata": {},
   "outputs": [],
   "source": [
    "import os\n",
    "\n",
    "from sqlalchemy import create_engine, text\n",
    "import pandas as pd\n",
    "from dotenv import load_dotenv\n",
    "\n",
    "load_dotenv(\"../.env\")\n"
   ]
  },
  {
   "cell_type": "code",
   "execution_count": null,
   "outputs": [],
   "source": [
    "METRICS_USER = os.environ[\"METRICS_USER\"]\n",
    "METRICS_PASSWORD = os.environ[\"METRICS_PASSWORD\"]\n",
    "METRICS_HOSTNAME = os.environ[\"METRICS_HOSTNAME\"]\n",
    "METRICS_PORT = os.environ[\"METRICS_PORT\"]\n",
    "METRICS_DB = os.environ[\"METRICS_DB\"]"
   ],
   "metadata": {
    "collapsed": false
   }
  },
  {
   "cell_type": "code",
   "execution_count": null,
   "outputs": [],
   "source": [
    "engine = create_engine(\n",
    "    f\"postgresql://{METRICS_USER}:{METRICS_PASSWORD}@{METRICS_HOSTNAME}:{METRICS_PORT}/{METRICS_DB}\"\n",
    ")"
   ],
   "metadata": {
    "collapsed": false
   }
  },
  {
   "cell_type": "markdown",
   "metadata": {},
   "source": [
    "# TMP"
   ]
  },
  {
   "cell_type": "code",
   "execution_count": 56,
   "metadata": {},
   "outputs": [],
   "source": [
    "\n",
    "def default_metrics_extraction(query: str ):\n",
    "    with engine.connect() as connection:\n",
    "        df_raw = pd.read_sql_query(text(query), connection)\n",
    "    return df_raw"
   ]
  },
  {
   "cell_type": "code",
   "execution_count": 8,
   "metadata": {},
   "outputs": [],
   "source": [
    "bdp = default_metrics_extraction(\"\"\"\n",
    "                WITH unpacked AS (\n",
    "                    SELECT\n",
    "                        bdp._id as metrics_id,\n",
    "                        id as bdp_id,\n",
    "                        bdp_rq.reference,\n",
    "                        bdp_sd.start as storage_datetime,\n",
    "                        bdp_sd.\"end\" as ausgabe_datetime,\n",
    "                        jsonb_array_elements(bdp.extension) as ext,\n",
    "                        bdp_pro.display as display,\n",
    "                        bdp_pro.code as code\n",
    "                    FROM\n",
    "                        biologicallyderivedproduct bdp\n",
    "                    JOIN\n",
    "                        biologicallyderivedproduct_request bdp_rq ON bdp_rq._resource = bdp._id\n",
    "                    JOIN\n",
    "                        biologicallyderivedproduct_storage_duration bdp_sd ON bdp_sd._resource = bdp._id\n",
    "                    JOIN\n",
    "                        \"biologicallyderivedproduct_productCode_coding\" bdp_pro on bdp_pro._resource = bdp._id\n",
    "\n",
    "                ),\n",
    "                filtered AS (\n",
    "                    SELECT\n",
    "                        metrics_id,\n",
    "                        bdp_id,\n",
    "                        replace(reference, 'ServiceRequest/', '') as service_request_id,\n",
    "                        lower(storage_datetime) as storage_datetime,\n",
    "                        lower(ausgabe_datetime) as ausgabe_datetime,\n",
    "                        display,\n",
    "                        code,\n",
    "                        CASE\n",
    "                            WHEN ext->>'url' = 'https://uk-essen.de/LAB/Nexus/Swisslab/KONSERVE/VERBRAUCH' THEN ext->>'valueString'\n",
    "                            ELSE NULL\n",
    "                        END as verbrauch,\n",
    "                        CASE\n",
    "                            WHEN ext->>'url' = 'https://uk-essen.de/LAB/Nexus/Swisslab/KONSERVE/AUSGABEAN' THEN ext->>'valueString'\n",
    "                            ELSE NULL\n",
    "                        END as ausgabean\n",
    "                    FROM unpacked\n",
    "                    WHERE ext->>'url' IN ('https://uk-essen.de/LAB/Nexus/Swisslab/KONSERVE/VERBRAUCH', 'https://uk-essen.de/LAB/Nexus/Swisslab/KONSERVE/AUSGABEAN')\n",
    "                )\n",
    "                SELECT\n",
    "                    metrics_id,\n",
    "                    bdp_id,\n",
    "                    service_request_id,\n",
    "                    storage_datetime,\n",
    "                    ausgabe_datetime,\n",
    "                    MAX(verbrauch) as verbrauch,\n",
    "                    MAX(ausgabean) as ausgabean,\n",
    "                    display,\n",
    "                    code\n",
    "                FROM filtered\n",
    "                GROUP BY metrics_id, bdp_id, service_request_id, storage_datetime, ausgabe_datetime, display, code\"\"\"\n",
    ")"
   ]
  },
  {
   "cell_type": "markdown",
   "metadata": {},
   "source": []
  },
  {
   "cell_type": "code",
   "execution_count": 63,
   "metadata": {},
   "outputs": [],
   "source": [
    "bdp.drop_duplicates(subset=[\"metrics_id\", \"bdp_id\"], inplace=True)\n",
    "bdp_filtered = bdp[\n",
    "    (bdp[\"ausgabe_datetime\"] >= '2021-03-01')\n",
    "    & (bdp[\"ausgabe_datetime\"] <= '2021-03-30')\n",
    "]\n",
    "\n",
    "sr_ids = \"', '\".join(bdp_filtered[\"service_request_id\"].unique())"
   ]
  },
  {
   "cell_type": "code",
   "execution_count": 64,
   "metadata": {},
   "outputs": [],
   "source": [
    "sr = default_metrics_extraction(f\"\"\"\n",
    "            SELECT\n",
    "                id as service_request_id,\n",
    "                replace(sr_sub.reference, 'Patient/', '') as patient_id,\n",
    "                fhirql_read_codes(status) as status,\n",
    "                fhirql_read_codes(priority) as priority\n",
    "            FROM servicerequest\n",
    "            JOIN servicerequest_subject sr_sub on sr_sub._resource = servicerequest._id\n",
    "            WHERE id in ('{sr_ids}')\"\"\")\n"
   ]
  },
  {
   "cell_type": "code",
   "execution_count": 65,
   "metadata": {},
   "outputs": [],
   "source": [
    "bdp_filtered = pd.merge(bdp_filtered, sr, on=\"service_request_id\", how=\"left\")"
   ]
  },
  {
   "cell_type": "code",
   "execution_count": 66,
   "metadata": {},
   "outputs": [
    {
     "data": {
      "text/plain": [
       "metrics_id            0\n",
       "bdp_id                0\n",
       "service_request_id    0\n",
       "storage_datetime      0\n",
       "ausgabe_datetime      0\n",
       "verbrauch             0\n",
       "ausgabean             0\n",
       "display               0\n",
       "code                  0\n",
       "patient_id            0\n",
       "status                0\n",
       "priority              0\n",
       "dtype: int64"
      ]
     },
     "execution_count": 66,
     "metadata": {},
     "output_type": "execute_result"
    }
   ],
   "source": [
    "bdp_filtered.isna().sum()"
   ]
  },
  {
   "cell_type": "code",
   "execution_count": 67,
   "metadata": {},
   "outputs": [
    {
     "data": {
      "text/plain": [
       "Index(['service_request_id', 'patient_id', 'status', 'priority'], dtype='object')"
      ]
     },
     "execution_count": 67,
     "metadata": {},
     "output_type": "execute_result"
    }
   ],
   "source": [
    "sr.columns"
   ]
  },
  {
   "cell_type": "code",
   "execution_count": 68,
   "metadata": {},
   "outputs": [
    {
     "data": {
      "text/plain": [
       "Index(['metrics_id', 'bdp_id', 'service_request_id', 'storage_datetime',\n",
       "       'ausgabe_datetime', 'verbrauch', 'ausgabean', 'display', 'code',\n",
       "       'patient_id', 'status', 'priority'],\n",
       "      dtype='object')"
      ]
     },
     "execution_count": 68,
     "metadata": {},
     "output_type": "execute_result"
    }
   ],
   "source": [
    "bdp_filtered.columns"
   ]
  },
  {
   "cell_type": "code",
   "execution_count": 74,
   "metadata": {},
   "outputs": [],
   "source": [
    "bdp_filtered['date'] = pd.to_datetime(bdp_filtered['ausgabe_datetime']).dt.date\n",
    "bdp_filtered['priority'] = [x[0] for x in bdp_filtered['priority']]"
   ]
  },
  {
   "cell_type": "code",
   "execution_count": 75,
   "metadata": {},
   "outputs": [],
   "source": [
    "grouped = bdp_filtered.groupby([\"date\", \"priority\"]).size().reset_index(name=\"count\")"
   ]
  },
  {
   "cell_type": "code",
   "execution_count": 76,
   "metadata": {},
   "outputs": [],
   "source": [
    "# only plot routine \n",
    "grouped_routine = grouped[grouped[\"priority\"] == \"routine\"]"
   ]
  },
  {
   "cell_type": "code",
   "execution_count": 79,
   "metadata": {},
   "outputs": [
    {
     "data": {
      "text/plain": [
       "<Axes: xlabel='date'>"
      ]
     },
     "execution_count": 79,
     "metadata": {},
     "output_type": "execute_result"
    },
    {
     "data": {
      "image/png": "[encoded data removed]",
      "text/plain": [
       "<Figure size 640x480 with 1 Axes>"
      ]
     },
     "metadata": {},
     "output_type": "display_data"
    }
   ],
   "source": [
    "from matplotlib import pyplot as plt\n",
    "grouped_routine.plot(x=\"date\", y=\"count\")"
   ]
  },
  {
   "cell_type": "code",
   "execution_count": 86,
   "metadata": {},
   "outputs": [
    {
     "data": {
      "text/plain": [
       "<Axes: xlabel='date'>"
      ]
     },
     "execution_count": 86,
     "metadata": {},
     "output_type": "execute_result"
    },
    {
     "data": {
      "image/png": "[encoded data removed]",
      "text/plain": [
       "<Figure size 640x480 with 1 Axes>"
      ]
     },
     "metadata": {},
     "output_type": "display_data"
    }
   ],
   "source": [
    "grouped_all = bdp_filtered.groupby([\"date\"]).size().reset_index(name=\"count\")\n",
    "grouped_all.plot(x=\"date\", y=\"count\")\n"
   ]
  },
  {
   "cell_type": "code",
   "execution_count": 87,
   "metadata": {},
   "outputs": [],
   "source": [
    "bdp = pd.read_pickle('/local/work/merengelke/fhir_former/testing_30d/data_raw/biologically_derived_product.pkl')"
   ]
  },
  {
   "cell_type": "code",
   "execution_count": 88,
   "metadata": {},
   "outputs": [
    {
     "data": {
      "text/html": [
       "<div>\n",
       "<style scoped>\n",
       "    .dataframe tbody tr th:only-of-type {\n",
       "        vertical-align: middle;\n",
       "    }\n",
       "\n",
       "    .dataframe tbody tr th {\n",
       "        vertical-align: top;\n",
       "    }\n",
       "\n",
       "    .dataframe thead th {\n",
       "        text-align: right;\n",
       "    }\n",
       "</style>\n",
       "<table border=\"1\" class=\"dataframe\">\n",
       "  <thead>\n",
       "    <tr style=\"text-align: right;\">\n",
       "      <th></th>\n",
       "      <th>metrics_id</th>\n",
       "      <th>bdp_id</th>\n",
       "      <th>service_request_id</th>\n",
       "      <th>storage_datetime</th>\n",
       "      <th>ausgabe_datetime</th>\n",
       "      <th>verbrauch</th>\n",
       "      <th>ausgabean</th>\n",
       "      <th>display</th>\n",
       "      <th>code</th>\n",
       "      <th>patient_id</th>\n",
       "      <th>status</th>\n",
       "      <th>priority</th>\n",
       "    </tr>\n",
       "  </thead>\n",
       "  <tbody>\n",
       "    <tr>\n",
       "      <th>0</th>\n",
       "      <td>1627467</td>\n",
       "      <td>0005f60c9cdc9e992f64d678db8998bb32a614a87b1095...</td>\n",
       "      <td>b2fbf9986ddbfadbc13c72fa7d4e6b6cc0806538687ffd...</td>\n",
       "      <td>2021-02-27 09:50:00+00:00</td>\n",
       "      <td>2021-03-16 09:11:00+00:00</td>\n",
       "      <td>AUSGABE</td>\n",
       "      <td>R-S4</td>\n",
       "      <td>Blood derivative product (product)</td>\n",
       "      <td>133</td>\n",
       "      <td>fee8b2d33c91455af8a6eb7af5ebd2886655d7b182f00a...</td>\n",
       "      <td>[revoked]</td>\n",
       "      <td>[urgent]</td>\n",
       "    </tr>\n",
       "    <tr>\n",
       "      <th>1</th>\n",
       "      <td>1628109</td>\n",
       "      <td>0020428e80074283ebb30fcfd5f3b4e235f5e7a3b0a45c...</td>\n",
       "      <td>fcb1374c840418d8c3a21d789fd6bc8a0d6e18cf73ba75...</td>\n",
       "      <td>2021-03-03 13:32:00+00:00</td>\n",
       "      <td>2021-03-17 07:15:00+00:00</td>\n",
       "      <td>AUSGABE</td>\n",
       "      <td>HZ3</td>\n",
       "      <td>Blood derivative product (product)</td>\n",
       "      <td>133</td>\n",
       "      <td>fdfc12c2f64bfc0f56986612d44b5d48e554fb494c1188...</td>\n",
       "      <td>[revoked]</td>\n",
       "      <td>[routine]</td>\n",
       "    </tr>\n",
       "    <tr>\n",
       "      <th>2</th>\n",
       "      <td>1628256</td>\n",
       "      <td>0026435856ea0b9e7ad1b0c8d7577309df5ab15af5bbe8...</td>\n",
       "      <td>a093ebc90a2751049817fd06f0e67aec42b1f092b06e6f...</td>\n",
       "      <td>2021-02-12 10:50:00+00:00</td>\n",
       "      <td>2021-03-12 10:45:00+00:00</td>\n",
       "      <td>AUSGABE</td>\n",
       "      <td>MDIA</td>\n",
       "      <td>Blood derivative product (product)</td>\n",
       "      <td>133</td>\n",
       "      <td>185b72493d7b551c7f508db096681855811eac67060811...</td>\n",
       "      <td>[completed]</td>\n",
       "      <td>[routine]</td>\n",
       "    </tr>\n",
       "    <tr>\n",
       "      <th>3</th>\n",
       "      <td>1628635</td>\n",
       "      <td>0034b0d4c8295f2f9d50c4c18e1122cb3a745092fd40ee...</td>\n",
       "      <td>0e87f9ff3ab4c5934c519eb35bd8c3e195c30640ea378b...</td>\n",
       "      <td>2021-03-25 12:25:00+00:00</td>\n",
       "      <td>2021-03-27 07:54:00+00:00</td>\n",
       "      <td>AUSGABE</td>\n",
       "      <td>MDIA</td>\n",
       "      <td>Blood derivative product (product)</td>\n",
       "      <td>133</td>\n",
       "      <td>20e5dff2c86bcc6de84219c843247a066db1c3329fd3f8...</td>\n",
       "      <td>[completed]</td>\n",
       "      <td>[routine]</td>\n",
       "    </tr>\n",
       "    <tr>\n",
       "      <th>4</th>\n",
       "      <td>1628740</td>\n",
       "      <td>0038af8f42a2c182b381277fdc34386bdc0a25b1d8dff3...</td>\n",
       "      <td>72d681410c7620d469793fe09df19a00431a8246a92ada...</td>\n",
       "      <td>2021-03-19 13:14:00+00:00</td>\n",
       "      <td>2021-03-23 15:32:00+00:00</td>\n",
       "      <td>AUSGABE</td>\n",
       "      <td>R-ITS</td>\n",
       "      <td>Blood derivative product (product)</td>\n",
       "      <td>133</td>\n",
       "      <td>2012f12907ab3de52541da02f38b862868f8549c99f727...</td>\n",
       "      <td>[completed]</td>\n",
       "      <td>[urgent]</td>\n",
       "    </tr>\n",
       "    <tr>\n",
       "      <th>...</th>\n",
       "      <td>...</td>\n",
       "      <td>...</td>\n",
       "      <td>...</td>\n",
       "      <td>...</td>\n",
       "      <td>...</td>\n",
       "      <td>...</td>\n",
       "      <td>...</td>\n",
       "      <td>...</td>\n",
       "      <td>...</td>\n",
       "      <td>...</td>\n",
       "      <td>...</td>\n",
       "      <td>...</td>\n",
       "    </tr>\n",
       "    <tr>\n",
       "      <th>4624</th>\n",
       "      <td>3141321</td>\n",
       "      <td>ffc5efbf623b085a41c6c670d0ad69153fd01a9154a5c5...</td>\n",
       "      <td>0052d76434a61606d2b7b12f1bb3cacf79f6487975b4cf...</td>\n",
       "      <td>2021-03-09 17:01:00+00:00</td>\n",
       "      <td>2021-03-13 12:44:00+00:00</td>\n",
       "      <td>AUSGABE</td>\n",
       "      <td>KIK3</td>\n",
       "      <td>Blood derivative product (product)</td>\n",
       "      <td>133</td>\n",
       "      <td>9af912665ef63ee9f162aebddd9c66300226f5788150ea...</td>\n",
       "      <td>[completed]</td>\n",
       "      <td>[routine]</td>\n",
       "    </tr>\n",
       "    <tr>\n",
       "      <th>4625</th>\n",
       "      <td>3141622</td>\n",
       "      <td>ffd3ad5ba8bfd75cde5b9bf61da53cda047e73396c9596...</td>\n",
       "      <td>13be4df522ef42e998ae676483f97e74ae0e9974369278...</td>\n",
       "      <td>2021-02-26 12:27:00+00:00</td>\n",
       "      <td>2021-03-18 08:31:00+00:00</td>\n",
       "      <td>AUSGABE</td>\n",
       "      <td>MIMC</td>\n",
       "      <td>Blood derivative product (product)</td>\n",
       "      <td>133</td>\n",
       "      <td>30af1225cb26c25b0d209f8b0be60c2d984ea0f019a739...</td>\n",
       "      <td>[completed]</td>\n",
       "      <td>[routine]</td>\n",
       "    </tr>\n",
       "    <tr>\n",
       "      <th>4626</th>\n",
       "      <td>3142136</td>\n",
       "      <td>ffe82af4e2cdfb11f0fcac77b815bb87e4a4968f7d0c47...</td>\n",
       "      <td>709fe80c7dc4bbfcc1f03899f9242802a344058185f4f3...</td>\n",
       "      <td>2021-02-24 17:18:00+00:00</td>\n",
       "      <td>2021-03-08 12:56:00+00:00</td>\n",
       "      <td>AUSGABE</td>\n",
       "      <td>ZNA-NORD</td>\n",
       "      <td>Blood derivative product (product)</td>\n",
       "      <td>133</td>\n",
       "      <td>6b78478bca6d3ac82f0cca2e2392f536be9382d017532e...</td>\n",
       "      <td>[completed]</td>\n",
       "      <td>[asap]</td>\n",
       "    </tr>\n",
       "    <tr>\n",
       "      <th>4627</th>\n",
       "      <td>3142599</td>\n",
       "      <td>fffc3a8b461d25d35571e2db8d2857bbe460906ac44a74...</td>\n",
       "      <td>6e60ee14598fbb9619bf8a3d6eb123881aee5dda5c164e...</td>\n",
       "      <td>2021-02-08 14:33:00+00:00</td>\n",
       "      <td>2021-03-04 15:46:00+00:00</td>\n",
       "      <td>AUSGABE</td>\n",
       "      <td>NEPHRO1</td>\n",
       "      <td>Blood derivative product (product)</td>\n",
       "      <td>133</td>\n",
       "      <td>1002ed6e3c237ae5c817dd1f55364123277f3f6a5a87db...</td>\n",
       "      <td>[completed]</td>\n",
       "      <td>[routine]</td>\n",
       "    </tr>\n",
       "    <tr>\n",
       "      <th>4628</th>\n",
       "      <td>3142660</td>\n",
       "      <td>fffe75377512a83c7ea7677257b083899317fac33188e9...</td>\n",
       "      <td>1752dcbdf621500bea035d850ec84ba47dc37ef277f5bd...</td>\n",
       "      <td>2021-03-11 15:59:00+00:00</td>\n",
       "      <td>2021-03-15 12:57:00+00:00</td>\n",
       "      <td>AUSGABE</td>\n",
       "      <td>ITII</td>\n",
       "      <td>Blood derivative product (product)</td>\n",
       "      <td>133</td>\n",
       "      <td>2249857565ff7c3f74b04ae5a87a155561b551ddb035bd...</td>\n",
       "      <td>[revoked]</td>\n",
       "      <td>[stat]</td>\n",
       "    </tr>\n",
       "  </tbody>\n",
       "</table>\n",
       "<p>4629 rows × 12 columns</p>\n",
       "</div>"
      ],
      "text/plain": [
       "      metrics_id                                             bdp_id  \\\n",
       "0        1627467  0005f60c9cdc9e992f64d678db8998bb32a614a87b1095...   \n",
       "1        1628109  0020428e80074283ebb30fcfd5f3b4e235f5e7a3b0a45c...   \n",
       "2        1628256  0026435856ea0b9e7ad1b0c8d7577309df5ab15af5bbe8...   \n",
       "3        1628635  0034b0d4c8295f2f9d50c4c18e1122cb3a745092fd40ee...   \n",
       "4        1628740  0038af8f42a2c182b381277fdc34386bdc0a25b1d8dff3...   \n",
       "...          ...                                                ...   \n",
       "4624     3141321  ffc5efbf623b085a41c6c670d0ad69153fd01a9154a5c5...   \n",
       "4625     3141622  ffd3ad5ba8bfd75cde5b9bf61da53cda047e73396c9596...   \n",
       "4626     3142136  ffe82af4e2cdfb11f0fcac77b815bb87e4a4968f7d0c47...   \n",
       "4627     3142599  fffc3a8b461d25d35571e2db8d2857bbe460906ac44a74...   \n",
       "4628     3142660  fffe75377512a83c7ea7677257b083899317fac33188e9...   \n",
       "\n",
       "                                     service_request_id  \\\n",
       "0     b2fbf9986ddbfadbc13c72fa7d4e6b6cc0806538687ffd...   \n",
       "1     fcb1374c840418d8c3a21d789fd6bc8a0d6e18cf73ba75...   \n",
       "2     a093ebc90a2751049817fd06f0e67aec42b1f092b06e6f...   \n",
       "3     0e87f9ff3ab4c5934c519eb35bd8c3e195c30640ea378b...   \n",
       "4     72d681410c7620d469793fe09df19a00431a8246a92ada...   \n",
       "...                                                 ...   \n",
       "4624  0052d76434a61606d2b7b12f1bb3cacf79f6487975b4cf...   \n",
       "4625  13be4df522ef42e998ae676483f97e74ae0e9974369278...   \n",
       "4626  709fe80c7dc4bbfcc1f03899f9242802a344058185f4f3...   \n",
       "4627  6e60ee14598fbb9619bf8a3d6eb123881aee5dda5c164e...   \n",
       "4628  1752dcbdf621500bea035d850ec84ba47dc37ef277f5bd...   \n",
       "\n",
       "              storage_datetime          ausgabe_datetime verbrauch ausgabean  \\\n",
       "0    2021-02-27 09:50:00+00:00 2021-03-16 09:11:00+00:00   AUSGABE      R-S4   \n",
       "1    2021-03-03 13:32:00+00:00 2021-03-17 07:15:00+00:00   AUSGABE       HZ3   \n",
       "2    2021-02-12 10:50:00+00:00 2021-03-12 10:45:00+00:00   AUSGABE      MDIA   \n",
       "3    2021-03-25 12:25:00+00:00 2021-03-27 07:54:00+00:00   AUSGABE      MDIA   \n",
       "4    2021-03-19 13:14:00+00:00 2021-03-23 15:32:00+00:00   AUSGABE     R-ITS   \n",
       "...                        ...                       ...       ...       ...   \n",
       "4624 2021-03-09 17:01:00+00:00 2021-03-13 12:44:00+00:00   AUSGABE      KIK3   \n",
       "4625 2021-02-26 12:27:00+00:00 2021-03-18 08:31:00+00:00   AUSGABE      MIMC   \n",
       "4626 2021-02-24 17:18:00+00:00 2021-03-08 12:56:00+00:00   AUSGABE  ZNA-NORD   \n",
       "4627 2021-02-08 14:33:00+00:00 2021-03-04 15:46:00+00:00   AUSGABE   NEPHRO1   \n",
       "4628 2021-03-11 15:59:00+00:00 2021-03-15 12:57:00+00:00   AUSGABE      ITII   \n",
       "\n",
       "                                 display  code  \\\n",
       "0     Blood derivative product (product)   133   \n",
       "1     Blood derivative product (product)   133   \n",
       "2     Blood derivative product (product)   133   \n",
       "3     Blood derivative product (product)   133   \n",
       "4     Blood derivative product (product)   133   \n",
       "...                                  ...   ...   \n",
       "4624  Blood derivative product (product)   133   \n",
       "4625  Blood derivative product (product)   133   \n",
       "4626  Blood derivative product (product)   133   \n",
       "4627  Blood derivative product (product)   133   \n",
       "4628  Blood derivative product (product)   133   \n",
       "\n",
       "                                             patient_id       status  \\\n",
       "0     fee8b2d33c91455af8a6eb7af5ebd2886655d7b182f00a...    [revoked]   \n",
       "1     fdfc12c2f64bfc0f56986612d44b5d48e554fb494c1188...    [revoked]   \n",
       "2     185b72493d7b551c7f508db096681855811eac67060811...  [completed]   \n",
       "3     20e5dff2c86bcc6de84219c843247a066db1c3329fd3f8...  [completed]   \n",
       "4     2012f12907ab3de52541da02f38b862868f8549c99f727...  [completed]   \n",
       "...                                                 ...          ...   \n",
       "4624  9af912665ef63ee9f162aebddd9c66300226f5788150ea...  [completed]   \n",
       "4625  30af1225cb26c25b0d209f8b0be60c2d984ea0f019a739...  [completed]   \n",
       "4626  6b78478bca6d3ac82f0cca2e2392f536be9382d017532e...  [completed]   \n",
       "4627  1002ed6e3c237ae5c817dd1f55364123277f3f6a5a87db...  [completed]   \n",
       "4628  2249857565ff7c3f74b04ae5a87a155561b551ddb035bd...    [revoked]   \n",
       "\n",
       "       priority  \n",
       "0      [urgent]  \n",
       "1     [routine]  \n",
       "2     [routine]  \n",
       "3     [routine]  \n",
       "4      [urgent]  \n",
       "...         ...  \n",
       "4624  [routine]  \n",
       "4625  [routine]  \n",
       "4626     [asap]  \n",
       "4627  [routine]  \n",
       "4628     [stat]  \n",
       "\n",
       "[4629 rows x 12 columns]"
      ]
     },
     "execution_count": 88,
     "metadata": {},
     "output_type": "execute_result"
    }
   ],
   "source": [
    "bdp"
   ]
  },
  {
   "cell_type": "code",
   "execution_count": null,
   "metadata": {},
   "outputs": [],
   "source": []
  }
 ],
 "metadata": {
  "kernelspec": {
   "display_name": "icd_predict",
   "language": "python",
   "name": "python3"
  },
  "language_info": {
   "codemirror_mode": {
    "name": "ipython",
    "version": 3
   },
   "file_extension": ".py",
   "mimetype": "text/x-python",
   "name": "python",
   "nbconvert_exporter": "python",
   "pygments_lexer": "ipython3",
   "version": "3.10.10"
  },
  "orig_nbformat": 4
 },
 "nbformat": 4,
 "nbformat_minor": 2
}
